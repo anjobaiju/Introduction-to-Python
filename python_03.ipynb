{
  "nbformat": 4,
  "nbformat_minor": 0,
  "metadata": {
    "colab": {
      "name": "python 03.ipynb",
      "provenance": []
    },
    "kernelspec": {
      "name": "python3",
      "display_name": "Python 3"
    },
    "language_info": {
      "name": "python"
    }
  },
  "cells": [
    {
      "cell_type": "code",
      "execution_count": null,
      "metadata": {
        "colab": {
          "base_uri": "https://localhost:8080/"
        },
        "id": "hAIipKVuIZct",
        "outputId": "343cb24f-3067-4c3d-8d69-21d82802b05e"
      },
      "outputs": [
        {
          "name": "stdout",
          "output_type": "stream",
          "text": [
            "enter your basic salary800000\n"
          ]
        }
      ],
      "source": [
        "x=int(input(\"enter your basic salary\"))"
      ]
    },
    {
      "cell_type": "code",
      "source": [
        "if x>300000:\n",
        "  print(\"you are taxable\")\n",
        "if x<300000:\n",
        "  print(\"you are not taxable\")\n"
      ],
      "metadata": {
        "colab": {
          "base_uri": "https://localhost:8080/"
        },
        "id": "N5evcWrZK8LY",
        "outputId": "25b0a5b7-6e1c-494a-f852-b142b58624cf"
      },
      "execution_count": null,
      "outputs": [
        {
          "output_type": "stream",
          "name": "stdout",
          "text": [
            "you are taxable\n"
          ]
        }
      ]
    },
    {
      "cell_type": "code",
      "source": [
        "x=int(input(\"enter your basic salary\"))\n",
        "if x>300000:\n",
        "  print(\"you are taxable\")\n",
        "  print((x-300000)*10/100)\n",
        "if x<300000:\n",
        "  print(\"you are not taxable\")\n"
      ],
      "metadata": {
        "colab": {
          "base_uri": "https://localhost:8080/"
        },
        "id": "Pe60dkvrN7JC",
        "outputId": "3610ea87-b48c-4e09-f2c8-fefe9f6a649d"
      },
      "execution_count": null,
      "outputs": [
        {
          "output_type": "stream",
          "name": "stdout",
          "text": [
            "enter your basic salary900000\n",
            "you are taxable\n",
            "60000.0\n"
          ]
        }
      ]
    },
    {
      "cell_type": "code",
      "source": [
        "x=int(input(\"enter your basic salary\"))\n",
        "if 300000<x<900000:\n",
        "  print(\"you are taxable\")\n",
        "  print((x-300000)*10/100)\n",
        "if x>900000:\n",
        "  print((((x-300000)*10/100)-900000)*20/100)\n",
        "if x<300000:\n",
        "  print(\"you are not taxable\")\n",
        "  "
      ],
      "metadata": {
        "colab": {
          "base_uri": "https://localhost:8080/"
        },
        "id": "py1jxN8uV-xK",
        "outputId": "5bfc3c1a-1e8a-4609-b00b-784c801cf28c"
      },
      "execution_count": null,
      "outputs": [
        {
          "output_type": "stream",
          "name": "stdout",
          "text": [
            "enter your basic salary10000000\n",
            "14000.0\n"
          ]
        }
      ]
    }
  ]
}